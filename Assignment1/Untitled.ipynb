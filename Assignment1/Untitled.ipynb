{
 "cells": [
  {
   "cell_type": "code",
   "execution_count": 6,
   "id": "25b2e9dc",
   "metadata": {},
   "outputs": [],
   "source": [
    "import numpy as np\n",
    "from PIL import Image\n",
    "\n",
    "# Make sure that image for you want to get output should be present\n",
    "# in same folder as of python file. Run this code using some others images too :)\n",
    "Image_name = \"c.png\"\n",
    "\n",
    "# Open the image file\n",
    "img = Image.open(Image_name)\n",
    "\n",
    "# Convert the image to a numpy array and extract the grayscale values (ravel() extracts the grayscale values )\n",
    "img_array = np.array(img)\n",
    "gray_values = img_array.ravel()\n",
    "# Now numpy array gray_values contains gray value of each pixel.\n",
    "\n",
    "##### TO DO #####\n",
    "\n",
    "# Using Introduction.py see If image contains all pixel values are zero or not.\n",
    "# Convert the given black image (Image is black because all grayscale values are near to zero) into\n",
    "# img_stretched so that our eyes can see what's actually there in the image.\n",
    "# This process is a real life application in Biology using Digital Image Processing.\n",
    "# Change something in img_array :)\n",
    "# Run your code with given 3 images by changing Image name in the code.\n",
    "\n",
    "# HINTS\n",
    "# 1. Increase the contrast (Read last week theory- Histogram Stretching)\n",
    "# 2. min_value = np.min(gray_values) - This gives minimum value from the numpy array gray_values. Similarly you can find maximum value :)\n",
    "\n",
    "# ACTIVITY\n",
    "# I have given three images a.png, b.png, c.png. The time order of taking this image is as follows:\n",
    "# a.png b.png c.png\n",
    "#   t    t+T   t+2T\n",
    "# Can you guess process?\n",
    "\n",
    "#### WRITE YOUR CODE HERE ####\n",
    "\n",
    "############# END ############\n",
    "\n",
    "\n",
    "# Convert the numpy array back to an image and save it\n",
    "img_stretched = Image.fromarray(np.uint8(img_array))\n",
    "img_stretched.save(f\"final-{Image_name}\")"
   ]
  },
  {
   "cell_type": "code",
   "execution_count": null,
   "id": "ca964772",
   "metadata": {},
   "outputs": [],
   "source": []
  }
 ],
 "metadata": {
  "kernelspec": {
   "display_name": "Python 3 (ipykernel)",
   "language": "python",
   "name": "python3"
  },
  "language_info": {
   "codemirror_mode": {
    "name": "ipython",
    "version": 3
   },
   "file_extension": ".py",
   "mimetype": "text/x-python",
   "name": "python",
   "nbconvert_exporter": "python",
   "pygments_lexer": "ipython3",
   "version": "3.11.3"
  }
 },
 "nbformat": 4,
 "nbformat_minor": 5
}
